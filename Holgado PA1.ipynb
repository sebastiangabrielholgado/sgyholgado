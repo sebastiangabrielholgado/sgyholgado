{
 "cells": [
  {
   "cell_type": "code",
   "execution_count": 1,
   "id": "b6d395e0-c556-4531-8ab3-28b229845b07",
   "metadata": {},
   "outputs": [
    {
     "name": "stdin",
     "output_type": "stream",
     "text": [
      "Kindly input your word:  banana\n"
     ]
    },
    {
     "name": "stdout",
     "output_type": "stream",
     "text": [
      "aaabnn"
     ]
    }
   ],
   "source": [
    "# a function that takes a string and returns a string with its letters in alphabetical order\n",
    "\n",
    "letters = input(\"Kindly input your word: \") #User input \n",
    "\n",
    "word = list(letters) #string conversion to characters\n",
    "word.sort() #Sort function to arrange the letters in ascending order\n",
    "for i in word:\n",
    "    print(i, end= \"\") #Don't move to a new line"
   ]
  },
  {
   "cell_type": "code",
   "execution_count": 2,
   "id": "e79b0b17-8c9d-4c6a-97d8-098b48488ed8",
   "metadata": {},
   "outputs": [
    {
     "name": "stdout",
     "output_type": "stream",
     "text": [
      "first: 1\n",
      "middle: [2, 3, 4, 5]\n",
      "last: 6\n"
     ]
    }
   ],
   "source": [
    "#Unpacking List \n",
    "\n",
    "lst = [1, 2, 3, 4, 5, 6] #store variables inside the word lst\n",
    "first = lst[0] #1st index is stored in the first variable\n",
    "middle = lst[1:5] #slicing index 1 to 5 but the 5th index is not included\n",
    "last = lst[5] #5th index is stored in the last variable\n",
    "\n",
    "print(\"first:\", first) #Print first \n",
    "print(\"middle:\", middle) #print middle\n",
    "print(\"last:\", last) #print last "
   ]
  },
  {
   "cell_type": "code",
   "execution_count": 3,
   "id": "bad60f74-3d83-4492-b2f6-3028b94a0d1b",
   "metadata": {},
   "outputs": [
    {
     "name": "stdin",
     "output_type": "stream",
     "text": [
      "Input a Sentence:  ECE makes me Smile\n"
     ]
    },
    {
     "name": "stdout",
     "output_type": "stream",
     "text": [
      "ECE makes me :)\n"
     ]
    }
   ],
   "source": [
    "#a function that changes specific words into emoticons. Given a sentence as a string, replace the words smile, grin, sad and mad with their corresponding emoticon\n",
    "\n",
    "def emotify(): #define function emotify\n",
    "    return ( #return function\n",
    "        input(\"Input a Sentence: \") #user input\n",
    "        .replace(\"Smile\", \":)\") #replace function for desired emoticon when entered the trigger word\n",
    "        .replace(\"Grin\", \":D\") #replace function for desired emoticon when entered the trigger word\n",
    "        .replace(\"Sad\", \":(\") #replace function for desired emoticon when entered the trigger word\n",
    "        .replace(\"Mad\", \">:(\") #replace function for desired emoticon when entered the trigger word\n",
    "    )\n",
    "\n",
    "print(emotify()) #run the function"
   ]
  }
 ],
 "metadata": {
  "kernelspec": {
   "display_name": "Python 3 (ipykernel)",
   "language": "python",
   "name": "python3"
  },
  "language_info": {
   "codemirror_mode": {
    "name": "ipython",
    "version": 3
   },
   "file_extension": ".py",
   "mimetype": "text/x-python",
   "name": "python",
   "nbconvert_exporter": "python",
   "pygments_lexer": "ipython3",
   "version": "3.13.5"
  }
 },
 "nbformat": 4,
 "nbformat_minor": 5
}
